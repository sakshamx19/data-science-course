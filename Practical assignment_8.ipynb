{
  "nbformat": 4,
  "nbformat_minor": 0,
  "metadata": {
    "colab": {
      "name": "assignment_8.ipynb",
      "provenance": [],
      "collapsed_sections": []
    },
    "kernelspec": {
      "name": "python3",
      "display_name": "Python 3"
    },
    "language_info": {
      "name": "python"
    }
  },
  "cells": [
    {
      "cell_type": "code",
      "metadata": {
        "id": "89EOl1-njMgR"
      },
      "source": [
        ""
      ],
      "execution_count": null,
      "outputs": []
    },
    {
      "cell_type": "markdown",
      "metadata": {
        "id": "aa95KTjZ0tQe"
      },
      "source": [
        " Q1. Write a Python Program to Add Two Matrices?\n"
      ]
    },
    {
      "cell_type": "code",
      "metadata": {
        "colab": {
          "base_uri": "https://localhost:8080/"
        },
        "id": "FTSJALUz05M8",
        "outputId": "27cd82ee-2939-43c7-c13f-24f95f2bdd7e"
      },
      "source": [
        "X = [[1,2,3],\n",
        "    [4 ,5,6],\n",
        "    [7 ,8,9]]\n",
        " \n",
        "Y = [[9,8,7],\n",
        "    [6,5,4],\n",
        "    [3,2,1]]\n",
        " \n",
        " \n",
        "result = [[0,0,0],\n",
        "        [0,0,0],\n",
        "        [0,0,0]]\n",
        " \n",
        "# iterate through rows\n",
        "for i in range(len(X)):  \n",
        "# iterate through columns\n",
        "    for j in range(3):\n",
        "        result[i][j] = X[i][j] + Y[i][j]\n",
        " \n",
        "for r in result:\n",
        "    print(r)"
      ],
      "execution_count": null,
      "outputs": [
        {
          "output_type": "stream",
          "name": "stdout",
          "text": [
            "[10, 10, 10]\n",
            "[10, 10, 10]\n",
            "[10, 10, 10]\n"
          ]
        }
      ]
    },
    {
      "cell_type": "markdown",
      "metadata": {
        "id": "MvcymaR1on3y"
      },
      "source": [
        "2. Write a Python Program to Multiply Two Matrices?\n"
      ]
    },
    {
      "cell_type": "code",
      "metadata": {
        "id": "kaWEf_zV1gi8",
        "colab": {
          "base_uri": "https://localhost:8080/"
        },
        "outputId": "0ba4031c-ddb8-4b80-b1f5-49e1712e4c0f"
      },
      "source": [
        "import numpy as np\n",
        "\n",
        "A = [[12, 7, 3],\n",
        "    [4, 5, 6],\n",
        "    [7, 8, 9]]\n",
        " \n",
        "\n",
        "B = [[5, 8, 1],\n",
        "    [6, 7, 3],\n",
        "    [4, 5, 9]]\n",
        " \n",
        "\n",
        " \n",
        "result= [[0,0,0,],\n",
        "        [0,0,0],\n",
        "        [0,0,0]]\n",
        " \n",
        "result = np.dot(A,B)\n",
        " \n",
        "for r in result:\n",
        "    print(r)"
      ],
      "execution_count": null,
      "outputs": [
        {
          "output_type": "stream",
          "name": "stdout",
          "text": [
            "[114 160  60]\n",
            "[74 97 73]\n",
            "[119 157 112]\n"
          ]
        }
      ]
    },
    {
      "cell_type": "markdown",
      "metadata": {
        "id": "RdkXLchbzmHY"
      },
      "source": [
        "3. Write a Python Program to Transpose a Matrix?"
      ]
    },
    {
      "cell_type": "code",
      "metadata": {
        "id": "0pW9LAR2pQSC",
        "colab": {
          "base_uri": "https://localhost:8080/"
        },
        "outputId": "c76074ba-f52d-48b3-91a7-a7a243c9bcd5"
      },
      "source": [
        "x = [[12, 7, 3],\n",
        "    [4, 5, 6],\n",
        "    [7, 8, 9]]\n",
        "\n",
        "result = [[0,0,0,],\n",
        "        [0,0,0],\n",
        "        [0,0,0]]\n",
        "\n",
        "for i in  range(len(x)):\n",
        "\n",
        "   for j in range(len(x[0])):\n",
        "       result[j][i] = x[i][j]\n",
        "\n",
        "for r in result:\n",
        "  print(r)"
      ],
      "execution_count": 2,
      "outputs": [
        {
          "output_type": "stream",
          "name": "stdout",
          "text": [
            "[12, 4, 7]\n",
            "[7, 5, 8]\n",
            "[3, 6, 9]\n"
          ]
        }
      ]
    },
    {
      "cell_type": "markdown",
      "metadata": {
        "id": "B1ArDTwL3i2x"
      },
      "source": [
        "4. Write a Python Program to Sort Words in Alphabetic Order?"
      ]
    },
    {
      "cell_type": "code",
      "metadata": {
        "colab": {
          "base_uri": "https://localhost:8080/"
        },
        "id": "xZryREWozTtO",
        "outputId": "2802ace6-ef60-4bc1-807f-7b74953e1f42"
      },
      "source": [
        "s = str(input(\"enter the sentence\"))\n",
        "W = s.split(\" \")\n",
        "for i in range(len(W)):\n",
        "   W[i]=W[i].lower()\n",
        "\n",
        "ba = sorted(W)\n",
        "\n",
        "print(' '.join(ba))\n"
      ],
      "execution_count": 13,
      "outputs": [
        {
          "output_type": "stream",
          "name": "stdout",
          "text": [
            "enter the sentenceGolu tHE ChOR \n",
            " chor golu the\n"
          ]
        }
      ]
    },
    {
      "cell_type": "markdown",
      "metadata": {
        "id": "C3O-fvZp6LEj"
      },
      "source": [
        "Write a Python Program to Remove Punctuation From a String?"
      ]
    },
    {
      "cell_type": "code",
      "metadata": {
        "colab": {
          "base_uri": "https://localhost:8080/"
        },
        "id": "WHSEglED0kFF",
        "outputId": "9aa502d1-68b7-452e-8e03-b15cdddfee16"
      },
      "source": [
        "punctuations = '''!()-[]{};:'\"\\,<>./?@#$%^&*_~'''\n",
        "\n",
        "st = str(input(\"Enter the string\"))\n",
        "\n",
        "No_punt= ' '\n",
        "\n",
        "for i in st:\n",
        "\n",
        "  if i not in punctuations:\n",
        "    No_punt = No_punt + i\n",
        "\n",
        "\n",
        "\n",
        "print(No_punt)"
      ],
      "execution_count": 2,
      "outputs": [
        {
          "output_type": "stream",
          "name": "stdout",
          "text": [
            "Enter the stringHello!!!, he said ---and went.\n",
            " Hello he said and went\n"
          ]
        }
      ]
    },
    {
      "cell_type": "code",
      "metadata": {
        "id": "C1kWl5lN5tTy"
      },
      "source": [
        ""
      ],
      "execution_count": null,
      "outputs": []
    }
  ]
}