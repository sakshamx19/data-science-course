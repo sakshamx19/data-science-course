{
  "nbformat": 4,
  "nbformat_minor": 0,
  "metadata": {
    "colab": {
      "name": "Untitled24.ipynb",
      "provenance": []
    },
    "kernelspec": {
      "name": "python3",
      "display_name": "Python 3"
    },
    "language_info": {
      "name": "python"
    }
  },
  "cells": [
    {
      "cell_type": "code",
      "metadata": {
        "colab": {
          "base_uri": "https://localhost:8080/"
        },
        "id": "LmQrelEyQIrs",
        "outputId": "3566b2f4-709b-4677-e793-d77b367f3806"
      },
      "source": [
        "#Write a Python Program to Display Fibonacci Sequence Using Recursion?\n",
        "\n",
        "def fibo(n):  \n",
        "   if n <= 1:  \n",
        "       return n  \n",
        "   else:  \n",
        "       return(fibo(n-1) + fibo(n-2))  \n",
        "  \n",
        "\n",
        "nterms = int(input(\"How many terms? \"))  \n",
        "\n",
        "if nterms <= 0:  \n",
        "   print(\"Plese enter a positive integer\")  \n",
        "else:  \n",
        "   print(\"Fibonacci sequence:\")  \n",
        "   for i in range(nterms):  \n",
        "       print(fibo(i))  "
      ],
      "execution_count": 1,
      "outputs": [
        {
          "output_type": "stream",
          "text": [
            "How many terms? 9\n",
            "Fibonacci sequence:\n",
            "0\n",
            "1\n",
            "1\n",
            "2\n",
            "3\n",
            "5\n",
            "8\n",
            "13\n",
            "21\n"
          ],
          "name": "stdout"
        }
      ]
    },
    {
      "cell_type": "code",
      "metadata": {
        "id": "eyq5VgMpQrX7"
      },
      "source": [
        "#Write a Python Program to Find Factorial of Number Using Recursion?\n",
        "\n",
        "def factorial(n):\n",
        "    if n<=1:\n",
        "        return 1\n",
        "    else:\n",
        "        return n*factorial(n-1)"
      ],
      "execution_count": 2,
      "outputs": []
    },
    {
      "cell_type": "code",
      "metadata": {
        "colab": {
          "base_uri": "https://localhost:8080/"
        },
        "id": "8gsXwmnNRipe",
        "outputId": "209d65d2-b24a-40e3-f379-dd33160998e1"
      },
      "source": [
        "factorial(3)"
      ],
      "execution_count": 3,
      "outputs": [
        {
          "output_type": "execute_result",
          "data": {
            "text/plain": [
              "6"
            ]
          },
          "metadata": {
            "tags": []
          },
          "execution_count": 3
        }
      ]
    },
    {
      "cell_type": "code",
      "metadata": {
        "colab": {
          "base_uri": "https://localhost:8080/"
        },
        "id": "wJ8fWzZuRl2s",
        "outputId": "88c206bc-9c6c-4e59-9e91-f3063c6bc3b6"
      },
      "source": [
        "#Write a Python Program to calculate your Body Mass Index?\n",
        "\n",
        "def bmi(a,b):\n",
        "    return b/a**2\n",
        "\n",
        "height = float(input(\"Enter height in meter:\"))\n",
        "weight = float(input(\"Enter weight in kilogram:\"))\n",
        "\n",
        "print(bmi(height,weight))\n",
        "    "
      ],
      "execution_count": 4,
      "outputs": [
        {
          "output_type": "stream",
          "text": [
            "Enter height in meter:1.8\n",
            "Enter weight in kilogram:65\n",
            "20.061728395061728\n"
          ],
          "name": "stdout"
        }
      ]
    },
    {
      "cell_type": "code",
      "metadata": {
        "id": "7YDC88dDUCQM"
      },
      "source": [
        "#Write a Python Program to calculate the natural logarithm of any number?\n",
        "\n",
        "import math\n",
        "def log_of_number(x):\n",
        "       c = math.log( x )\n",
        "       return c"
      ],
      "execution_count": 5,
      "outputs": []
    },
    {
      "cell_type": "code",
      "metadata": {
        "colab": {
          "base_uri": "https://localhost:8080/"
        },
        "id": "yQW2z3hNVBMj",
        "outputId": "0e483353-4b8d-425e-fdc6-77a62a3c4ebf"
      },
      "source": [
        "log_of_number(6)"
      ],
      "execution_count": 6,
      "outputs": [
        {
          "output_type": "execute_result",
          "data": {
            "text/plain": [
              "1.791759469228055"
            ]
          },
          "metadata": {
            "tags": []
          },
          "execution_count": 6
        }
      ]
    },
    {
      "cell_type": "code",
      "metadata": {
        "id": "0cV_mUsHVEtS"
      },
      "source": [
        "#Write a Python Program for cube sum of first n natural numbers?\n",
        "\n",
        "def sum_cube(limit):\n",
        "    h=0\n",
        "    for i in range(1,limit+1):\n",
        "         h+=i**3\n",
        "    return h"
      ],
      "execution_count": 7,
      "outputs": []
    },
    {
      "cell_type": "code",
      "metadata": {
        "colab": {
          "base_uri": "https://localhost:8080/"
        },
        "id": "dGEuuPP-V-B9",
        "outputId": "84af3253-bbbe-4ee6-9a8c-9e5e47d4cb5a"
      },
      "source": [
        "sum_cube(3)"
      ],
      "execution_count": 8,
      "outputs": [
        {
          "output_type": "execute_result",
          "data": {
            "text/plain": [
              "36"
            ]
          },
          "metadata": {
            "tags": []
          },
          "execution_count": 8
        }
      ]
    },
    {
      "cell_type": "code",
      "metadata": {
        "id": "Z8fTUSy2WCth"
      },
      "source": [
        ""
      ],
      "execution_count": null,
      "outputs": []
    }
  ]
}