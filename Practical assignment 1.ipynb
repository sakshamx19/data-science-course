{
  "nbformat": 4,
  "nbformat_minor": 0,
  "metadata": {
    "colab": {
      "name": "Untitled8.ipynb",
      "provenance": [],
      "collapsed_sections": []
    },
    "kernelspec": {
      "name": "python3",
      "display_name": "Python 3"
    },
    "language_info": {
      "name": "python"
    }
  },
  "cells": [
    {
      "cell_type": "code",
      "metadata": {
        "colab": {
          "base_uri": "https://localhost:8080/"
        },
        "id": "LVykGjxBxOYg",
        "outputId": "23d510a2-635d-4994-eef5-52531167d4aa"
      },
      "source": [
        "#Write a Python program to print \"Hello Python\"?\n",
        "print(\"hello python\")"
      ],
      "execution_count": 2,
      "outputs": [
        {
          "output_type": "stream",
          "text": [
            "hello python\n"
          ],
          "name": "stdout"
        }
      ]
    },
    {
      "cell_type": "code",
      "metadata": {
        "colab": {
          "base_uri": "https://localhost:8080/"
        },
        "id": "jvyjqDASxq9p",
        "outputId": "28bdd5e7-7023-4868-8e8f-9a71a8ce3270"
      },
      "source": [
        "#Write a Python program to do arithmetical operations addition and division.?\n",
        "a=10\n",
        "b=2\n",
        "c = a+b\n",
        "d = a/b\n",
        "print(c,d)"
      ],
      "execution_count": 3,
      "outputs": [
        {
          "output_type": "stream",
          "text": [
            "12 5.0\n"
          ],
          "name": "stdout"
        }
      ]
    },
    {
      "cell_type": "code",
      "metadata": {
        "colab": {
          "base_uri": "https://localhost:8080/"
        },
        "id": "FlWB1TcHyJsI",
        "outputId": "96d35d82-e2eb-474d-a9c9-59e3ce7c937c"
      },
      "source": [
        "#Write a Python program to find the area of a triangle?\n",
        "base=int(input(\"Enter the base of tringle:\"))\n",
        "height=int(input(\"Enter the height of triangle:\"))\n",
        "area=base*height\n",
        "area=area/2\n",
        "print(\"trianle area:\",area)"
      ],
      "execution_count": 10,
      "outputs": [
        {
          "output_type": "stream",
          "text": [
            "Enter the base of tringle:30\n",
            "Enter the height of triangle:50\n",
            "trianle area: 750.0\n"
          ],
          "name": "stdout"
        }
      ]
    },
    {
      "cell_type": "code",
      "metadata": {
        "colab": {
          "base_uri": "https://localhost:8080/"
        },
        "id": "leWhiAEazOn_",
        "outputId": "f2ef6479-0319-40e3-dc8b-f12ebd7d344c"
      },
      "source": [
        "#Write a Python program to swap two variables?\n",
        "\n",
        "x = input('Enter value of x: ')\n",
        "y = input('Enter value of y: ')\n",
        "\n",
        "# create a temporary variable and swap the values\n",
        " l= x\n",
        "x = y\n",
        "y =l\n",
        "\n",
        "print('The value of x after swapping:',x)\n",
        "print('The value of y after swapping:',y)"
      ],
      "execution_count": 11,
      "outputs": [
        {
          "output_type": "stream",
          "text": [
            "Enter value of x: golu\n",
            "Enter value of y: molo\n",
            "The value of x after swapping: molo\n",
            "The value of y after swapping: golu\n"
          ],
          "name": "stdout"
        }
      ]
    },
    {
      "cell_type": "code",
      "metadata": {
        "id": "UfwqQqqk1V8A"
      },
      "source": [
        "#Write a Python program to generate a random number?\n",
        "\n",
        "import random\n",
        "\n",
        "for i in range(10):\n",
        "    print(random.randrange(10))"
      ],
      "execution_count": 10,
      "outputs": []
    }
  ]
}