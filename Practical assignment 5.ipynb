{
  "nbformat": 4,
  "nbformat_minor": 0,
  "metadata": {
    "colab": {
      "name": "Untitled11.ipynb",
      "provenance": []
    },
    "kernelspec": {
      "name": "python3",
      "display_name": "Python 3"
    },
    "language_info": {
      "name": "python"
    }
  },
  "cells": [
    {
      "cell_type": "code",
      "metadata": {
        "colab": {
          "base_uri": "https://localhost:8080/"
        },
        "id": "i0z6Zb4FdN2g",
        "outputId": "121db179-8485-4a10-953d-09c837fc2ef7"
      },
      "source": [
        "#Write a Python Program to Find LCM?\n",
        "num1=int(input(\"enter the small number\"))\n",
        "num2=int(input(\"enter the big number\"))\n",
        "\n",
        "for i in range(1,10000):\n",
        "  if ( i%num1 ==0) and (i%num2 ==0) :\n",
        "    print(\"lcm=\",i)\n",
        "    break"
      ],
      "execution_count": 4,
      "outputs": [
        {
          "output_type": "stream",
          "text": [
            "enter the small number10\n",
            "enter the big number11\n",
            "110\n"
          ],
          "name": "stdout"
        }
      ]
    },
    {
      "cell_type": "code",
      "metadata": {
        "colab": {
          "base_uri": "https://localhost:8080/"
        },
        "id": "OEkrq-gUgMeY",
        "outputId": "fad3454d-640e-4d1c-aaa7-b71aeca02d7a"
      },
      "source": [
        "num5=int(input(\"enter the small number=\"))\n",
        "num4=int(input(\"enter the big number=\"))\n",
        "lst=[]\n",
        "\n",
        "for i in range(1,num4+1):\n",
        "  if(num4%i==0) and (num5%i==0):\n",
        "    lst.append(i)\n",
        "\n",
        "if max(lst)>1:\n",
        "  print(\"hcf\",max(lst))\n",
        "else:\n",
        "  print(\"Hcf\",1)      "
      ],
      "execution_count": 9,
      "outputs": [
        {
          "output_type": "stream",
          "text": [
            "enter the small number=51\n",
            "enter the big number=91\n",
            "Hcf 1\n"
          ],
          "name": "stdout"
        }
      ]
    },
    {
      "cell_type": "code",
      "metadata": {
        "colab": {
          "base_uri": "https://localhost:8080/"
        },
        "id": "5GMNB7czlp_h",
        "outputId": "341e3692-920a-446a-d204-ff71f82e8eb9"
      },
      "source": [
        "#Write a Python Program to Convert Decimal to Binary, Octal and Hexadecimal?\n",
        "\n",
        "n = int(input(\"Enter an integer: \"))\n",
        "print(\"The decimal value of\",n,\"is:\")\n",
        "print(bin(n),\"in binary.\")\n",
        "print(oct(n),\"in octal.\")\n",
        "print(hex(n),\"in hexadecimal.\")"
      ],
      "execution_count": 1,
      "outputs": [
        {
          "output_type": "stream",
          "text": [
            "Enter an integer: 55\n",
            "The decimal value of 55 is:\n",
            "0b110111 in binary.\n",
            "0o67 in octal.\n",
            "0x37 in hexadecimal.\n"
          ],
          "name": "stdout"
        }
      ]
    },
    {
      "cell_type": "code",
      "metadata": {
        "colab": {
          "base_uri": "https://localhost:8080/"
        },
        "id": "AMmRHU82BYRR",
        "outputId": "b96f0bb4-63bd-4ec0-b5c5-20e876be09e2"
      },
      "source": [
        "#Write a Python Program To Find ASCII value of a character?\n",
        "\n",
        "character = str(input(\"Enter the character\"))\n",
        "\n",
        "print(\"ASCII value of a character\",ord(character))"
      ],
      "execution_count": 2,
      "outputs": [
        {
          "output_type": "stream",
          "text": [
            "Enter the characterA\n",
            "ASCII value of a character 65\n"
          ],
          "name": "stdout"
        }
      ]
    },
    {
      "cell_type": "code",
      "metadata": {
        "colab": {
          "base_uri": "https://localhost:8080/"
        },
        "id": "m1QdR8S2Dvtg",
        "outputId": "e376f677-de29-486b-f5c1-94bbcc1fe233"
      },
      "source": [
        "#Write a Python Program to Make a Simple Calculator with 4 basic mathematical operations?\n",
        "value=float(input(\"enter the first number:\"))\n",
        "print(\"select the operation +,-,*,/\")\n",
        "operation=str(input())\n",
        "value2=float(input(\"enter the second number:\"))\n",
        "\n",
        "if operation == \"+\":\n",
        "  print(\"Result:\",value+value2)\n",
        "\n",
        "elif operation == \"-\":\n",
        "  print(\"Result:\",value-value2)  \n",
        "\n",
        "elif operation == \"*\":\n",
        "  print(\"Result:\",value*value2)\n",
        "\n",
        "elif operation == \"/\":\n",
        "  print(\"Result:\",value/value2)  \n",
        "\n",
        "else:\n",
        "  print(\"sorry our coder was new don't have knowledge\")    "
      ],
      "execution_count": 3,
      "outputs": [
        {
          "output_type": "stream",
          "text": [
            "enter the first number:40\n",
            "select the operation +,-,*,/\n",
            "+\n",
            "enter the second number:50\n",
            "Result: 90.0\n"
          ],
          "name": "stdout"
        }
      ]
    },
    {
      "cell_type": "code",
      "metadata": {
        "id": "BagrRC4FHPUN"
      },
      "source": [
        ""
      ],
      "execution_count": null,
      "outputs": []
    }
  ]
}