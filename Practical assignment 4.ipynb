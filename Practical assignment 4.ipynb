{
  "nbformat": 4,
  "nbformat_minor": 0,
  "metadata": {
    "colab": {
      "name": "Untitled10.ipynb",
      "provenance": []
    },
    "kernelspec": {
      "name": "python3",
      "display_name": "Python 3"
    },
    "language_info": {
      "name": "python"
    }
  },
  "cells": [
    {
      "cell_type": "code",
      "metadata": {
        "colab": {
          "base_uri": "https://localhost:8080/"
        },
        "id": "CtTc-usTe5mI",
        "outputId": "e217b382-840d-4d97-d2ca-145a9cba3fe0"
      },
      "source": [
        "#Write a Python Program to Find the Factorial of a Number?\n",
        "\n",
        "n=int(input(\"Enter number=\"))\n",
        "h=1\n",
        "i=1\n",
        "while  i<n+1:\n",
        " h=h*(i)\n",
        " i+=1\n",
        "\n",
        "print(\"factorial=\",h)"
      ],
      "execution_count": 9,
      "outputs": [
        {
          "output_type": "stream",
          "text": [
            "Enter number=3\n",
            "factorial= 6\n"
          ],
          "name": "stdout"
        }
      ]
    },
    {
      "cell_type": "code",
      "metadata": {
        "colab": {
          "base_uri": "https://localhost:8080/"
        },
        "id": "BJJ0aAdci1ed",
        "outputId": "8da6a39e-5c62-4011-d6c9-193fcf3d7b71"
      },
      "source": [
        "#Write a Python Program to Display the multiplication Table?\n",
        "n=int(input(\"enter number table for =\"))\n",
        "\n",
        "\n",
        "for i in range(1,11):\n",
        " h=i*n\n",
        " print(\"{}*{}={}\".format(i,n,h))\n"
      ],
      "execution_count": 11,
      "outputs": [
        {
          "output_type": "stream",
          "text": [
            "enter number table for =5\n",
            "1*5=5\n",
            "2*5=10\n",
            "3*5=15\n",
            "4*5=20\n",
            "5*5=25\n",
            "6*5=30\n",
            "7*5=35\n",
            "8*5=40\n",
            "9*5=45\n",
            "10*5=50\n"
          ],
          "name": "stdout"
        }
      ]
    },
    {
      "cell_type": "code",
      "metadata": {
        "colab": {
          "base_uri": "https://localhost:8080/"
        },
        "id": "wcVvCHvto4N3",
        "outputId": "b0f0c63b-c000-4b97-a0af-49aac710984f"
      },
      "source": [
        "#Write a Python Program to Print the Fibonacci sequence?\n",
        "\n",
        "term = int(input(\"How many terms? \"))\n",
        "n1, n2 = 0, 1\n",
        "count = 0\n",
        "if term <= 0:\n",
        "   print(\"Please enter a positive integer\")\n",
        "elif term == 1:\n",
        "   print(\"Fibonacci sequence upto\",term,\":\")\n",
        "   print(n1)\n",
        "else:\n",
        "   print(\"Fibonacci sequence:\")\n",
        "   while count < term:\n",
        "       print(n1)\n",
        "       nth = n1 + n2\n",
        "       # update values\n",
        "       n1 = n2\n",
        "       n2 = nth\n",
        "       count += 1"
      ],
      "execution_count": 54,
      "outputs": [
        {
          "output_type": "stream",
          "text": [
            "How many terms? 10\n",
            "Fibonacci sequence:\n",
            "0\n",
            "1\n",
            "1\n",
            "2\n",
            "3\n",
            "5\n",
            "8\n",
            "13\n",
            "21\n",
            "34\n"
          ],
          "name": "stdout"
        }
      ]
    },
    {
      "cell_type": "code",
      "metadata": {
        "colab": {
          "base_uri": "https://localhost:8080/"
        },
        "id": "GewXn9h05CBU",
        "outputId": "750ba6a8-549c-49bf-fbb3-9017e0cfd725"
      },
      "source": [
        "#Write a Python Program to Check Armstrong Number?\n",
        "num1=int(input(\"enter a 3 digit number \"))\n",
        "tepo =num1\n",
        "sum=0\n",
        "while tepo > 0:\n",
        "    digit=tepo % 10\n",
        "    sum+=digit**3\n",
        "    tepo//=10\n",
        "\n",
        "if sum == num1:\n",
        " print(\"number is armstrong:\",num1)\n",
        "else:\n",
        "  print(\"number is not a armstrong\",num1)"
      ],
      "execution_count": 53,
      "outputs": [
        {
          "output_type": "stream",
          "text": [
            "enter a 3 digit number 407\n",
            "number is armstrong: 407\n"
          ],
          "name": "stdout"
        }
      ]
    },
    {
      "cell_type": "code",
      "metadata": {
        "colab": {
          "base_uri": "https://localhost:8080/"
        },
        "id": "ox0Sr4elubPq",
        "outputId": "7f47cdcd-5b52-48d2-e10b-e18b6c43b549"
      },
      "source": [
        "#Write a Python Program to Find Armstrong Number in an Interval?\n",
        "for j in range(100,100000):\n",
        "  sum1=0\n",
        "  tep=j\n",
        "  while tep > 0:\n",
        "    digit1=tep % 10\n",
        "    sum1+=digit1**3\n",
        "    tep//=10\n",
        "  if sum1==j:\n",
        "   print(j) \n",
        "print(\"all the armstrong number in the given range\")\n"
      ],
      "execution_count": 46,
      "outputs": [
        {
          "output_type": "stream",
          "text": [
            "153\n",
            "370\n",
            "371\n",
            "407\n",
            "all the armstrong number in the given range\n"
          ],
          "name": "stdout"
        }
      ]
    },
    {
      "cell_type": "code",
      "metadata": {
        "colab": {
          "base_uri": "https://localhost:8080/"
        },
        "id": "VyosPMsQ3wSt",
        "outputId": "d7df145e-9f9a-4841-96d6-a46b38968ce1"
      },
      "source": [
        "#Write a Python Program to Find the Sum of Natural Numbers?\n",
        "number = int(input(\"enter number till which sum wanted:\"))\n",
        "sum=0\n",
        "print(\"0\")\n",
        "for i in range(1,number+1):\n",
        "  sum+=i\n",
        "  print(\"+\",i)\n",
        "print(sum)  "
      ],
      "execution_count": 58,
      "outputs": [
        {
          "output_type": "stream",
          "text": [
            "enter number till which sum wanted:10\n",
            "0\n",
            "+ 1\n",
            "+ 2\n",
            "+ 3\n",
            "+ 4\n",
            "+ 5\n",
            "+ 6\n",
            "+ 7\n",
            "+ 8\n",
            "+ 9\n",
            "+ 10\n",
            "55\n"
          ],
          "name": "stdout"
        }
      ]
    },
    {
      "cell_type": "code",
      "metadata": {
        "id": "f9lncVR0-Tre"
      },
      "source": [
        ""
      ],
      "execution_count": null,
      "outputs": []
    }
  ]
}