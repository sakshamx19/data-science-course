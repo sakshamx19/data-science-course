{
  "nbformat": 4,
  "nbformat_minor": 0,
  "metadata": {
    "colab": {
      "name": "Untitled23.ipynb",
      "provenance": []
    },
    "kernelspec": {
      "name": "python3",
      "display_name": "Python 3"
    },
    "language_info": {
      "name": "python"
    }
  },
  "cells": [
    {
      "cell_type": "markdown",
      "metadata": {
        "id": "qwTc_t2ToZ69"
      },
      "source": [
        ""
      ]
    },
    {
      "cell_type": "code",
      "metadata": {
        "id": "dYKjCjJmlOUi"
      },
      "source": [
        "'''Write a function that takes a list of lists and returns the value of all of the symbols in it, where each symbol adds or takes something from the total score.\n",
        " Symbol values\n",
        "# = 5\n",
        "O = 3\n",
        "X = 1\n",
        "! = -1\n",
        "!! = -3\n",
        "!!! = -5\n",
        "'''\n",
        "\n",
        "def check_score(a):\n",
        "  sum = 0\n",
        "  if type(a) == list:\n",
        "    for j in a:\n",
        "      for i in j:\n",
        "          if (i== \"#\"):\n",
        "            sum = sum + 5\n",
        "          elif (i == \"O\" ):\n",
        "             sum = sum + 3\n",
        "          elif (i == \"X\" ):\n",
        "            sum = sum + 1 \n",
        "          elif (i == \"!\" ):\n",
        "            sum = sum -1\n",
        "          elif (i == \"!!\" ):\n",
        "            sum = sum - 3\n",
        "          elif (i== \"!!!\"):\n",
        "            sum = sum - 5    \n",
        "          else:\n",
        "            sum = sum + 0 \n",
        "  else:\n",
        "    print(\"operation not possible\")\n",
        "  \n",
        "  if sum <= 0 :\n",
        "          sum=sum*0\n",
        "  else:\n",
        "    pass    \n",
        "\n",
        "  return sum  \n",
        "          \n",
        "\n"
      ],
      "execution_count": null,
      "outputs": []
    },
    {
      "cell_type": "code",
      "metadata": {
        "colab": {
          "base_uri": "https://localhost:8080/"
        },
        "id": "vfRBaBxmpOoE",
        "outputId": "6246ed43-1b93-4f3c-e8b5-44c5a607c4eb"
      },
      "source": [
        "    check_score(([[\"#\", \"!\"],[\"!!\", \"X\"]]))"
      ],
      "execution_count": null,
      "outputs": [
        {
          "output_type": "execute_result",
          "data": {
            "text/plain": [
              "2"
            ]
          },
          "metadata": {
            "tags": []
          },
          "execution_count": 55
        }
      ]
    },
    {
      "cell_type": "code",
      "metadata": {
        "colab": {
          "base_uri": "https://localhost:8080/"
        },
        "id": "AhHDWTV2pjkR",
        "outputId": "cc18d979-e838-4fe3-ae43-4a5e945c6ee5"
      },
      "source": [
        "check_score([[\"!!!\", \"O\", \"!\"],[\"X\", \"#\", \"!!!\"],[\"!!\", \"X\", \"O\"]])\n"
      ],
      "execution_count": null,
      "outputs": [
        {
          "output_type": "execute_result",
          "data": {
            "text/plain": [
              "0"
            ]
          },
          "metadata": {
            "tags": []
          },
          "execution_count": 54
        }
      ]
    },
    {
      "cell_type": "markdown",
      "metadata": {
        "id": "J-qRzFgWoN8D"
      },
      "source": [
        "2. Create a function that takes a variable number of arguments, each\n",
        "argument representing the number of items in a group, and returns the\n",
        "number of permutations (combinations) of items that you could get by taking\n",
        "one item from each group."
      ]
    },
    {
      "cell_type": "code",
      "metadata": {
        "id": "ZrNdv1nkLiRq"
      },
      "source": [
        "def combination(a,*b):\n",
        "  ans=a\n",
        "  for i in (b):\n",
        "    ans=ans*i\n",
        "  return ans  "
      ],
      "execution_count": 31,
      "outputs": []
    },
    {
      "cell_type": "code",
      "metadata": {
        "colab": {
          "base_uri": "https://localhost:8080/"
        },
        "id": "_S7nDnSvMADO",
        "outputId": "06d822ac-1a20-4565-ab2a-6128d70fe683"
      },
      "source": [
        "combination(2,3,8)"
      ],
      "execution_count": 30,
      "outputs": [
        {
          "output_type": "execute_result",
          "data": {
            "text/plain": [
              "48"
            ]
          },
          "metadata": {
            "tags": []
          },
          "execution_count": 30
        }
      ]
    },
    {
      "cell_type": "code",
      "metadata": {
        "colab": {
          "base_uri": "https://localhost:8080/"
        },
        "id": "1RoZwD7gNASd",
        "outputId": "a215954f-856c-4b86-fa7b-8b8bee18f479"
      },
      "source": [
        "combination(2,3)"
      ],
      "execution_count": 32,
      "outputs": [
        {
          "output_type": "execute_result",
          "data": {
            "text/plain": [
              "6"
            ]
          },
          "metadata": {
            "tags": []
          },
          "execution_count": 32
        }
      ]
    },
    {
      "cell_type": "code",
      "metadata": {
        "colab": {
          "base_uri": "https://localhost:8080/"
        },
        "id": "TFluf6kPNMdc",
        "outputId": "f888e241-4a0f-490c-f80b-057f52b0f2dd"
      },
      "source": [
        "combination(3,7,4)"
      ],
      "execution_count": 33,
      "outputs": [
        {
          "output_type": "execute_result",
          "data": {
            "text/plain": [
              "84"
            ]
          },
          "metadata": {
            "tags": []
          },
          "execution_count": 33
        }
      ]
    },
    {
      "cell_type": "code",
      "metadata": {
        "colab": {
          "base_uri": "https://localhost:8080/"
        },
        "id": "xg3uQsqQNbcJ",
        "outputId": "438b688c-0202-4875-d59e-82de3dfed572"
      },
      "source": [
        "combination(2,3,4,5)"
      ],
      "execution_count": 34,
      "outputs": [
        {
          "output_type": "execute_result",
          "data": {
            "text/plain": [
              "120"
            ]
          },
          "metadata": {
            "tags": []
          },
          "execution_count": 34
        }
      ]
    },
    {
      "cell_type": "markdown",
      "metadata": {
        "id": "us27vshKoxxZ"
      },
      "source": [
        "3. Create a function that takes a string as an argument and returns the Morse\n",
        "code equivalent.\n",
        "Examples\n",
        "encode_morse(&quot;EDABBIT CHALLENGE&quot;) ➞ &quot;. -.. .- -... -... .. - -.-. .... .- .-.. .-..\n",
        ". -. --. .&quot;\n",
        "encode_morse(&quot;HELP ME !&quot;) ➞ &quot;.... . .-.. .--. -- . -.-.--&quot;\n",
        "\n",
        "This dictionary can be used for coding:\n",
        "char_to_dots = {\n",
        "&#39;A&#39;: &#39;.-&#39;, &#39;B&#39;: &#39;-...&#39;, &#39;C&#39;: &#39;-.-.&#39;, &#39;D&#39;: &#39;-..&#39;, &#39;E&#39;: &#39;.&#39;, &#39;F&#39;: &#39;..-.&#39;,\n",
        "&#39;G&#39;: &#39;--.&#39;, &#39;H&#39;: &#39;....&#39;, &#39;I&#39;: &#39;..&#39;, &#39;J&#39;: &#39;.---&#39;, &#39;K&#39;: &#39;-.-&#39;, &#39;L&#39;: &#39;.-..&#39;,\n",
        "&#39;M&#39;: &#39;--&#39;, &#39;N&#39;: &#39;-.&#39;, &#39;O&#39;: &#39;---&#39;, &#39;P&#39;: &#39;.--.&#39;, &#39;Q&#39;: &#39;--.-&#39;, &#39;R&#39;: &#39;.-.&#39;,\n",
        "&#39;S&#39;: &#39;...&#39;, &#39;T&#39;: &#39;-&#39;, &#39;U&#39;: &#39;..-&#39;, &#39;V&#39;: &#39;...-&#39;, &#39;W&#39;: &#39;.--&#39;, &#39;X&#39;: &#39;-..-&#39;,\n",
        "&#39;Y&#39;: &#39;-.--&#39;, &#39;Z&#39;: &#39;--..&#39;, &#39; &#39;: &#39; &#39;, &#39;0&#39;: &#39;-----&#39;,\n",
        "&#39;1&#39;: &#39;.----&#39;, &#39;2&#39;: &#39;..---&#39;, &#39;3&#39;: &#39;...--&#39;, &#39;4&#39;: &#39;....-&#39;, &#39;5&#39;: &#39;.....&#39;,\n",
        "&#39;6&#39;: &#39;-....&#39;, &#39;7&#39;: &#39;--...&#39;, &#39;8&#39;: &#39;---..&#39;, &#39;9&#39;: &#39;----.&#39;,\n",
        "&#39;&amp;&#39;: &#39;.-...&#39;, &quot;&#39;&quot;: &#39;.----.&#39;, &#39;@&#39;: &#39;.--.-.&#39;, &#39;)&#39;: &#39;-.--.-&#39;, &#39;(&#39;: &#39;-.--.&#39;,\n",
        "&#39;:&#39;: &#39;---...&#39;, &#39;,&#39;: &#39;--..--&#39;, &#39;=&#39;: &#39;-...-&#39;, &#39;!&#39;: &#39;-.-.--&#39;, &#39;.&#39;: &#39;.-.-.-&#39;,\n",
        "&#39;-&#39;: &#39;-....-&#39;, &#39;+&#39;: &#39;.-.-.&#39;, &#39;&quot;&#39;: &#39;.-..-.&#39;, &#39;?&#39;: &#39;..--..&#39;, &#39;/&#39;: &#39;-..-.&#39;\n",
        "}"
      ]
    },
    {
      "cell_type": "code",
      "metadata": {
        "id": "NW70mgqcygvD"
      },
      "source": [
        "def encode_morese(a):\n",
        "  c = ' '\n",
        "  char_to_dots = {\n",
        "  'A': '.-', 'B': '-...', 'C': '-.-.', 'D': '-..', 'E': '.', 'F': '..-.',\n",
        "  'G': '--.', 'H': '....', 'I': '..', 'J': '.---', 'K': '-.-', 'L': '.-..',\n",
        "  'M': '--', 'N': '-.', 'O': '---', 'P': '.--.', 'Q': '--.-', 'R': '.-.',\n",
        "  'S': '...', 'T': '-', 'U': '..-', 'V': '...-', 'W': '.--', 'X': '-..-',\n",
        "  'Y': '-.--', 'Z': '--..', ' ': ' ', '0': '-----',\n",
        "  '1': '.----', '2': '..---', '3': '...--', '4': '....-', '5': '.....',\n",
        "  '6': '-....', '7': '--...', '8': '---..', '9': '----.',\n",
        "  '&': '.-...', \"'\": '.----.', '@': '.--.-.', ')': '-.--.-', '(': '-.--.',\n",
        "  ':': '---...', ',': '--..--', '=': '-...-', '!': '-.-.--', '.': '.-.-.-',\n",
        "  '-': '-....-', '+': '.-.-.', '\"': '.-..-.', '?': '..--..', '/': '-..-.'\n",
        "    }\n",
        "  b = a.upper()\n",
        "\n",
        "  for i in b:\n",
        "      for j in char_to_dots:\n",
        "        if i == j:\n",
        "          c = c + char_to_dots[j]\n",
        "\n",
        "  return c  \n",
        "\n"
      ],
      "execution_count": 23,
      "outputs": []
    },
    {
      "cell_type": "code",
      "metadata": {
        "colab": {
          "base_uri": "https://localhost:8080/",
          "height": 35
        },
        "id": "SwlnPB4uHDjK",
        "outputId": "c8b1129c-ef07-4962-946c-682d76635044"
      },
      "source": [
        "encode_morese(\"golu is king\")"
      ],
      "execution_count": null,
      "outputs": [
        {
          "output_type": "execute_result",
          "data": {
            "application/vnd.google.colaboratory.intrinsic+json": {
              "type": "string"
            },
            "text/plain": [
              "' --.---.-....- ..... -.-..-.--.'"
            ]
          },
          "metadata": {
            "tags": []
          },
          "execution_count": 61
        }
      ]
    },
    {
      "cell_type": "code",
      "metadata": {
        "colab": {
          "base_uri": "https://localhost:8080/",
          "height": 35
        },
        "id": "pewcJLd4Kw71",
        "outputId": "aa875bb3-7389-4162-b6e7-c33a7448f7bb"
      },
      "source": [
        "encode_morese(\"EDABBIT CHALLENGE\")"
      ],
      "execution_count": 25,
      "outputs": [
        {
          "output_type": "execute_result",
          "data": {
            "application/vnd.google.colaboratory.intrinsic+json": {
              "type": "string"
            },
            "text/plain": [
              "' .-...--...-.....- -.-......-.-...-...-.--..'"
            ]
          },
          "metadata": {
            "tags": []
          },
          "execution_count": 25
        }
      ]
    },
    {
      "cell_type": "code",
      "metadata": {
        "colab": {
          "base_uri": "https://localhost:8080/",
          "height": 35
        },
        "id": "nqOW1SoLLXLv",
        "outputId": "3df2138e-dc05-4ca1-cf2a-a091f4756416"
      },
      "source": [
        "encode_morese(\"help me\")"
      ],
      "execution_count": 26,
      "outputs": [
        {
          "output_type": "execute_result",
          "data": {
            "application/vnd.google.colaboratory.intrinsic+json": {
              "type": "string"
            },
            "text/plain": [
              "' ......-...--. --.'"
            ]
          },
          "metadata": {
            "tags": []
          },
          "execution_count": 26
        }
      ]
    },
    {
      "cell_type": "markdown",
      "metadata": {
        "id": "Xwlfwt_GpIwL"
      },
      "source": [
        "4. Write a function that takes a number and returns True if it&#39;s a prime; False\n",
        "otherwise. The number can be 2^64-1 (2 to the power of 63, not XOR). With\n",
        "the standard technique it would be O(2^64-1), which is much too large for the\n",
        "10 second time limit.\n",
        "Examples\n",
        "prime(7) ➞ True\n",
        "prime(56963) ➞ True\n",
        "prime(5151512515524) ➞ False"
      ]
    },
    {
      "cell_type": "code",
      "metadata": {
        "id": "1Cv8DubpNquQ"
      },
      "source": [
        "def prime(x):             \n",
        "    if(x==0 or x==1):\n",
        "        return False\n",
        "    for n in range(2,x-1):   \n",
        "        if (x % n) == 0:     \n",
        "            return False\n",
        "    else:                    \n",
        "        return True"
      ],
      "execution_count": 36,
      "outputs": []
    },
    {
      "cell_type": "code",
      "metadata": {
        "colab": {
          "base_uri": "https://localhost:8080/"
        },
        "id": "VGbadVTbN-vj",
        "outputId": "1ac6a968-ddb2-4d90-e54c-f60527dea45d"
      },
      "source": [
        "prime(7)"
      ],
      "execution_count": 38,
      "outputs": [
        {
          "output_type": "execute_result",
          "data": {
            "text/plain": [
              "True"
            ]
          },
          "metadata": {
            "tags": []
          },
          "execution_count": 38
        }
      ]
    },
    {
      "cell_type": "code",
      "metadata": {
        "colab": {
          "base_uri": "https://localhost:8080/"
        },
        "id": "fSQO3IDmOLn3",
        "outputId": "4be1572c-be4d-4bd6-e55a-c9e3215291e9"
      },
      "source": [
        "prime(56963)"
      ],
      "execution_count": 39,
      "outputs": [
        {
          "output_type": "execute_result",
          "data": {
            "text/plain": [
              "True"
            ]
          },
          "metadata": {
            "tags": []
          },
          "execution_count": 39
        }
      ]
    },
    {
      "cell_type": "code",
      "metadata": {
        "colab": {
          "base_uri": "https://localhost:8080/"
        },
        "id": "rVryy49tOSIk",
        "outputId": "330e8887-eae6-4a76-d724-70aee3af8dae"
      },
      "source": [
        "prime(5151512515524)"
      ],
      "execution_count": 40,
      "outputs": [
        {
          "output_type": "execute_result",
          "data": {
            "text/plain": [
              "False"
            ]
          },
          "metadata": {
            "tags": []
          },
          "execution_count": 40
        }
      ]
    },
    {
      "cell_type": "markdown",
      "metadata": {
        "id": "UjpbKYuppg12"
      },
      "source": [
        "#5. Create a function that converts a word to a bitstring and then to a boolean\n",
        "#list based on the following criteria:\n",
        "1. Locate the position of the letter in the English alphabet (from 1 to 26).\n",
        "2. Odd positions will be represented as 1 and 0 otherwise.\n",
        "3. Convert the represented positions to boolean values, 1 for True and 0\n",
        "for False.\n",
        "4. Store the conversions into an array.\n",
        "Examples\n",
        "to_boolean_list(&quot;deep&quot;) ➞ [False, True, True, False]\n",
        "deep converts to 0110\n",
        "d is the 4th alphabet - 0\n",
        " e is the 5th alphabet - 1\n",
        " e is the 5th alphabet - 1\n",
        " p is the 16th alphabet - 0\n",
        "to_boolean_list(&quot;loves&quot;) ➞ [False, True, False, True, True]\n",
        "to_boolean_list(&quot;tesh&quot;) ➞ [False, True, True, False]"
      ]
    },
    {
      "cell_type": "code",
      "metadata": {
        "id": "4TJcv2gDLvpZ"
      },
      "source": [
        "import string\n",
        "alphabet_string =  string.ascii_uppercase\n",
        "alphabet_list = list(alphabet_string)\n",
        "\n",
        "def to_boolean_list(a):\n",
        "  b = a.upper()\n",
        "  list_bool = [ ]\n",
        "  list_bin  = [ ]\n",
        "  for i in b:\n",
        "    for j in alphabet_list:\n",
        "        if i == j:\n",
        "          k = alphabet_list.index(j)\n",
        "          if (k%2 == 0):\n",
        "            list_bool.append(True)\n",
        "            list_bin.append(1)\n",
        "\n",
        "          else:\n",
        "            list_bool.append(False)\n",
        "            list_bin.append(0)\n",
        "\n",
        "  return list_bool,list_bin            \n",
        "\n"
      ],
      "execution_count": 20,
      "outputs": []
    },
    {
      "cell_type": "code",
      "metadata": {
        "colab": {
          "base_uri": "https://localhost:8080/"
        },
        "id": "763ruVWhFytH",
        "outputId": "548c902e-82fd-4851-b686-cf2df4557a02"
      },
      "source": [
        "to_boolean_list(\"golu\")"
      ],
      "execution_count": 13,
      "outputs": [
        {
          "output_type": "execute_result",
          "data": {
            "text/plain": [
              "([False, False, True, False], [0, 0, 1, 0])"
            ]
          },
          "metadata": {
            "tags": []
          },
          "execution_count": 13
        }
      ]
    },
    {
      "cell_type": "code",
      "metadata": {
        "colab": {
          "base_uri": "https://localhost:8080/"
        },
        "id": "QBceU2coD7t1",
        "outputId": "67350727-5f51-457d-fefb-bdac69998ec3"
      },
      "source": [
        "to_boolean_list(\"love\")"
      ],
      "execution_count": 14,
      "outputs": [
        {
          "output_type": "execute_result",
          "data": {
            "text/plain": [
              "([True, False, True, False], [1, 0, 1, 0])"
            ]
          },
          "metadata": {
            "tags": []
          },
          "execution_count": 14
        }
      ]
    },
    {
      "cell_type": "code",
      "metadata": {
        "colab": {
          "base_uri": "https://localhost:8080/"
        },
        "id": "rc7hkYqMGCSH",
        "outputId": "28848966-a54d-4efe-c893-26cd76e9ab39"
      },
      "source": [
        "to_boolean_list(\"tesh\")"
      ],
      "execution_count": 15,
      "outputs": [
        {
          "output_type": "execute_result",
          "data": {
            "text/plain": [
              "([True, False, False, True], [1, 0, 0, 1])"
            ]
          },
          "metadata": {
            "tags": []
          },
          "execution_count": 15
        }
      ]
    },
    {
      "cell_type": "code",
      "metadata": {
        "colab": {
          "base_uri": "https://localhost:8080/"
        },
        "id": "VGOfemHHGEOv",
        "outputId": "47fc67a0-8e11-4776-86a0-349c30c8cac2"
      },
      "source": [
        "to_boolean_list(\"abcd\")"
      ],
      "execution_count": 21,
      "outputs": [
        {
          "output_type": "execute_result",
          "data": {
            "text/plain": [
              "([True, False, True, False], [1, 0, 1, 0])"
            ]
          },
          "metadata": {
            "tags": []
          },
          "execution_count": 21
        }
      ]
    }
  ]
}