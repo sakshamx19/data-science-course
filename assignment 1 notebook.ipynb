{
 "cells": [
  {
   "cell_type": "markdown",
   "metadata": {},
   "source": [
    "1. What are the differences between operators and values in the following?\n",
    "Operators are special symbols in Python that carry out arithmetic or logical computation. Value is the result we get after these computation * - Multiplication operator 'hello' -String value -87.8 – Float value - - Subtraction operator / - Division operator + - Addition operator 6 – Integer value\n",
    "\n",
    "2. What is the difference between string and variable?\n",
    "Spam – It is a variable it store data or information 'spam'- It is a string. It is a type of information stored in variable\n",
    "\n",
    "3. Describe three different data forms.\n",
    "Integer, float and string are three different type of data type.\n",
    "Integer - Integers are numbers with no decimal parts, eg:- -5, -4, -3, 0, 5, 7\n",
    "Float- Float refers to numbers that have decimal parts, eg:- 1.234, -0.023, 12.01.\n",
    "String - String refers to text information. \n",
    "4. What makes up an expression? What are the functions of all expressions?\n",
    "An expression is an instruction that combines values and operators and always evaluates down to a single value. \n",
    "\n",
    "5. In this chapter, assignment statements such as spam = 10 were added. What's the difference between a declaration and an expression?\n",
    "Declaration means we are putting a variable under a specific data type. An expression is a combination of variables, operations and values that yields a result value.\n",
    "6. After running the following code, what does the variable bacon contain? \n",
    "bacon = 22\n",
    "bacon + 1\n",
    "Output:-\n",
    "23 \n",
    "\n",
    "7. What should the values of the following two terms be?\n",
    "'spam' + 'spamspam' \n",
    "'spam' * 3\n",
    "Output of both the statement will be:-\n",
    "‘spamspamspam’\n",
    "8. Why is it that eggs is a true variable name but 100 is not?\n",
    "100 cannot be a variable because first character in variable number cannot be a number it should be always letter 9. Which of the following three functions may be used to convert a value to an integer, a floating-point number, or a string?\n",
    "int() function in Python takes in a float or an appropriate string and converts it to an integer.\n",
    "float() function takes in an integer or an appropriate string and changes it to a float.\n",
    "str() function on the other hand converts an integer or a float to a string.\n",
    "\n",
    "10. What is the error caused by this expression? What would you do about it?\n",
    "'I have eaten ' + 99 + ' burritos.'\n",
    "TypeError will be shown because we are adding two string and one int which is not possible.\n",
    "We can correct it by writing:-\n",
    "'I have eaten ' + str(99) + ' burritos.'\n",
    "Output:-\n",
    "‘I have eaten 99 burritos.’"
   ]
  }
 ],
 "metadata": {
  "kernelspec": {
   "display_name": "Python 3",
   "language": "python",
   "name": "python3"
  },
  "language_info": {
   "codemirror_mode": {
    "name": "ipython",
    "version": 3
   },
   "file_extension": ".py",
   "mimetype": "text/x-python",
   "name": "python",
   "nbconvert_exporter": "python",
   "pygments_lexer": "ipython3",
   "version": "3.8.5"
  }
 },
 "nbformat": 4,
 "nbformat_minor": 4
}
