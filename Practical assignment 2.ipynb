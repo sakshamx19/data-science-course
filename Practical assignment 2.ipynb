{
  "nbformat": 4,
  "nbformat_minor": 0,
  "metadata": {
    "colab": {
      "name": "practical assignment 2.ipynb",
      "provenance": [],
      "collapsed_sections": []
    },
    "kernelspec": {
      "name": "python3",
      "display_name": "Python 3"
    },
    "language_info": {
      "name": "python"
    }
  },
  "cells": [
    {
      "cell_type": "code",
      "metadata": {
        "colab": {
          "base_uri": "https://localhost:8080/"
        },
        "id": "1wgBkI7Y2I_O",
        "outputId": "34e8bb00-0181-4c26-fa5b-19b9795071e5"
      },
      "source": [
        "#Write a Python program to convert kilometers to miles?\n",
        "\n",
        "kilo=int(input(\"Enter kilometer traveled:\"))\n",
        "mile=kilo/1.5\n",
        "print(\"You taveled %f miles\"%mile)"
      ],
      "execution_count": 9,
      "outputs": [
        {
          "output_type": "stream",
          "text": [
            "Enter kilometer traveled:50\n",
            "You taveled 33.333333 miles\n"
          ],
          "name": "stdout"
        }
      ]
    },
    {
      "cell_type": "code",
      "metadata": {
        "colab": {
          "base_uri": "https://localhost:8080/"
        },
        "id": "jkWTH29K5UcO",
        "outputId": "2f04489f-7dbf-4bc0-f326-41a4b3e9c6b9"
      },
      "source": [
        "#Write a Python program to convert Celsius to Fahrenheit?\n",
        "temprature=float(input(\"enter temprature in Celsius:\"))\n",
        "Fahre=((temprature*9/5)+32)\n",
        "print(\"temprature in Fahrenheit= \",Fahre)       "
      ],
      "execution_count": 11,
      "outputs": [
        {
          "output_type": "stream",
          "text": [
            "enter temprature in Celsius:35.8\n",
            "temprature in Fahrenheit=  96.44\n"
          ],
          "name": "stdout"
        }
      ]
    },
    {
      "cell_type": "code",
      "metadata": {
        "colab": {
          "base_uri": "https://localhost:8080/"
        },
        "id": "iAWKPs3NC9XT",
        "outputId": "6060b8cc-7f84-4be1-bdd1-1523f26589af"
      },
      "source": [
        "#Write a Python program to display calendar?\n",
        "import calendar\n",
        "year = int(input(\"Enter year: \"))\n",
        "month = int(input(\"Enter month: \"))\n",
        "print(calendar.month(year,month))"
      ],
      "execution_count": 13,
      "outputs": [
        {
          "output_type": "stream",
          "text": [
            "Enter year: 2000\n",
            "Enter month: 06\n",
            "     June 2000\n",
            "Mo Tu We Th Fr Sa Su\n",
            "          1  2  3  4\n",
            " 5  6  7  8  9 10 11\n",
            "12 13 14 15 16 17 18\n",
            "19 20 21 22 23 24 25\n",
            "26 27 28 29 30\n",
            "\n"
          ],
          "name": "stdout"
        }
      ]
    },
    {
      "cell_type": "code",
      "metadata": {
        "colab": {
          "base_uri": "https://localhost:8080/"
        },
        "id": "PBurU0rzK2Au",
        "outputId": "51046785-7d81-42b7-bb08-bd8746dc0edf"
      },
      "source": [
        "#Write a Python program to solve quadratic equation?\n",
        "import cmath\n",
        "\n",
        "c1 = float(input(\"coeffceint of x**2\")) \n",
        "c2 = float(input(\"coeffceint of x\"))\n",
        "c3 = float(input(\"constant\"))\n",
        "\n",
        "d = (c2**2) - (4*c1*c3)\n",
        "\n",
        "sol1 = (-c2-cmath.sqrt(d))/(2*c1)\n",
        "sol2 = (-c2+cmath.sqrt(d))/(2*c1)\n",
        "\n",
        "print('The solution are {0} and {1}'.format(sol1,sol2))"
      ],
      "execution_count": 15,
      "outputs": [
        {
          "output_type": "stream",
          "text": [
            "coeffceint of x**22\n",
            "coeffceint of x0\n",
            "constant-4\n",
            "The solution are (-1.4142135623730951+0j) and (1.4142135623730951+0j)\n"
          ],
          "name": "stdout"
        }
      ]
    },
    {
      "cell_type": "code",
      "metadata": {
        "colab": {
          "base_uri": "https://localhost:8080/"
        },
        "id": "SQlpf991REF9",
        "outputId": "75a280ce-fa35-4fde-bf09-b7a968aa9c2d"
      },
      "source": [
        "#Write a Python program to swap two variables without temp variable?\n",
        "var1 = input(\"enter first variable\")\n",
        "var2 = input(\"enter second variable\")\n",
        "print (\"Before swapping: \")\n",
        "print(\"Value of x : \", var1, \" and y : \", var2)\n",
        "var1, var2 = var2, var1\n",
        "print (\"After swapping: \")\n",
        "print(\"Value of x : \", var1, \" and y : \", var2)"
      ],
      "execution_count": 17,
      "outputs": [
        {
          "output_type": "stream",
          "text": [
            "enter first variable50\n",
            "enter second variable20\n",
            "Before swapping: \n",
            "Value of x :  50  and y :  20\n",
            "After swapping: \n",
            "Value of x :  20  and y :  50\n"
          ],
          "name": "stdout"
        }
      ]
    },
    {
      "cell_type": "code",
      "metadata": {
        "id": "Ti2WW-nnShdU"
      },
      "source": [
        ""
      ],
      "execution_count": null,
      "outputs": []
    },
    {
      "cell_type": "code",
      "metadata": {
        "id": "vBdSlSb5Sgqk"
      },
      "source": [
        ""
      ],
      "execution_count": null,
      "outputs": []
    }
  ]
}